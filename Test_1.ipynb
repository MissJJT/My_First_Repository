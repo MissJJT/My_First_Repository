{
 "cells": [
  {
   "cell_type": "markdown",
   "metadata": {},
   "source": [
    "# Git Commands \n",
    "\n",
    "Below are the basic git commands when you want to save your work on github:\n",
    "* git add T \n",
    "* git commit / -m\n",
    "* git push origin (main/master)"
   ]
  },
  {
   "cell_type": "markdown",
   "metadata": {},
   "source": [
    "*To save work to git we type git add Test_1.ipynb*\n",
    "*To Commit type git commit -m 'Initial commit'*\n",
    "*To push type git push origin ......*"
   ]
  },
  {
   "cell_type": "markdown",
   "metadata": {},
   "source": [
    "*I've gotten such a huge error but i've managed to solve it as Mibang is being helped*"
   ]
  },
  {
   "cell_type": "markdown",
   "metadata": {},
   "source": [
    "git add File name then git commit -m 'Update the .ipynb file' to udate changes to Github then push it. T"
   ]
  },
  {
   "cell_type": "code",
   "execution_count": null,
   "metadata": {},
   "outputs": [],
   "source": []
  }
 ],
 "metadata": {
  "kernelspec": {
   "display_name": "Python 3",
   "language": "python",
   "name": "python3"
  },
  "language_info": {
   "codemirror_mode": {
    "name": "ipython",
    "version": 3
   },
   "file_extension": ".py",
   "mimetype": "text/x-python",
   "name": "python",
   "nbconvert_exporter": "python",
   "pygments_lexer": "ipython3",
   "version": "3.8.5"
  }
 },
 "nbformat": 4,
 "nbformat_minor": 4
}
