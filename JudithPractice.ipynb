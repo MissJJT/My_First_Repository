{
 "cells": [
  {
   "cell_type": "markdown",
   "id": "019df5a1-bd5b-4780-a7e8-15eac9b49969",
   "metadata": {},
   "source": [
    "## Practice"
   ]
  },
  {
   "cell_type": "markdown",
   "id": "fb8b5807-1e3f-4af6-b541-c82629ebace2",
   "metadata": {},
   "source": [
    "Just working  on this to see if it will work since I lost all my work "
   ]
  },
  {
   "cell_type": "code",
   "execution_count": null,
   "id": "660b0ae8-818a-4daf-85e1-4dfba5517a46",
   "metadata": {},
   "outputs": [],
   "source": []
  }
 ],
 "metadata": {
  "kernelspec": {
   "display_name": "Python 3 (ipykernel)",
   "language": "python",
   "name": "python3"
  },
  "language_info": {
   "codemirror_mode": {
    "name": "ipython",
    "version": 3
   },
   "file_extension": ".py",
   "mimetype": "text/x-python",
   "name": "python",
   "nbconvert_exporter": "python",
   "pygments_lexer": "ipython3",
   "version": "3.11.7"
  }
 },
 "nbformat": 4,
 "nbformat_minor": 5
}
